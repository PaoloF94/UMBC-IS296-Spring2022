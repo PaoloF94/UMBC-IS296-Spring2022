{
  "nbformat": 4,
  "nbformat_minor": 0,
  "metadata": {
    "colab": {
      "name": "cross-training-session",
      "provenance": [],
      "collapsed_sections": [],
      "include_colab_link": true
    },
    "kernelspec": {
      "name": "python3",
      "display_name": "Python 3"
    },
    "language_info": {
      "name": "python"
    }
  },
  "cells": [
    {
      "cell_type": "markdown",
      "metadata": {
        "id": "view-in-github",
        "colab_type": "text"
      },
      "source": [
        "<a href=\"https://colab.research.google.com/github/PaoloF94/UMBC-IS296-Spring2022/blob/main/cross_training_session.ipynb\" target=\"_parent\"><img src=\"https://colab.research.google.com/assets/colab-badge.svg\" alt=\"Open In Colab\"/></a>"
      ]
    },
    {
      "cell_type": "markdown",
      "source": [
        "Welcome! \n",
        "run the cell below, you will see a welcome message! \n",
        "\n",
        "To run a cell, you may hit SHIFT + RETURN Button to click the run button on the upper left corner of the cell\n",
        "\n",
        "*Can you figure out how to change the color of the message?*"
      ],
      "metadata": {
        "id": "nVtH1e0kyNfd"
      }
    },
    {
      "cell_type": "code",
      "source": [
        "%%html \n",
        "<marquee style='width: 20%; color: red;'><b>Welcome to Cross Training! Testing</b></marquee>"
      ],
      "metadata": {
        "id": "2CmwfG7WyEZW"
      },
      "execution_count": null,
      "outputs": []
    },
    {
      "cell_type": "markdown",
      "source": [
        "# Setup \n",
        "Just run the following cells once for installation and loading packages\n",
        "\n",
        "Either click the run button or hit SHIFT + RETURN "
      ],
      "metadata": {
        "id": "vznvU7_IOp5s"
      }
    },
    {
      "cell_type": "code",
      "source": [
        "# data science package\n",
        "!pip install datascience\n",
        "from datascience import *\n",
        "import numpy as np"
      ],
      "metadata": {
        "id": "EavO4a_XxETl"
      },
      "execution_count": null,
      "outputs": []
    },
    {
      "cell_type": "code",
      "source": [
        "#Google text to speech package\n",
        "!pip install gTTS\n",
        "from gtts import gTTS #Import Google Text to Speech\n",
        "from IPython.display import Audio #Import Audio method from IPython's Display Class"
      ],
      "metadata": {
        "id": "gF1ZVqZpdVcq"
      },
      "execution_count": null,
      "outputs": []
    },
    {
      "cell_type": "markdown",
      "source": [
        "# 1. Warm up - Say Hello\n",
        "This will allow you type your name and ask Google to say hello to you using text to speech\n"
      ],
      "metadata": {
        "id": "6k3464H0bWRU"
      }
    },
    {
      "cell_type": "code",
      "source": [
        "# replace this array with the first name of your group members\n",
        "names = make_array('Angelica','Egan','Karen','Hannah') \n",
        "# change the index so that Google can say hello each of your group members, you may also change the greetings\n",
        "speech = 'Hello ' + names[0] + ' how are you today' \n",
        "print(speech)\n",
        "tts = gTTS(speech) \n",
        "tts.save('1.wav')\n",
        "sound_file = '1.wav'\n",
        "Audio(sound_file, autoplay=True) "
      ],
      "metadata": {
        "id": "c2-M4fFddwv2"
      },
      "execution_count": null,
      "outputs": []
    },
    {
      "cell_type": "markdown",
      "source": [
        "# 2. Warm Up - Would You Rather\n",
        "Take turn among your group members. \n",
        "\n",
        "Run the following cell will spit out a random would-you-rather question. Have fun!"
      ],
      "metadata": {
        "id": "kCMgj8cFwOFB"
      }
    },
    {
      "cell_type": "code",
      "source": [
        "url = 'https://raw.githubusercontent.com/lujiec2020/UMBC-IS296-Spring2022/main/data/would-you-rather.csv' \n",
        "question_table = Table.read_table(url)\n",
        "n = question_table.num_rows\n",
        "random_number = np.random.randint(0,n-1)\n",
        "question = question_table.column('questions')[random_number]\n",
        "print (question)"
      ],
      "metadata": {
        "id": "xTQNPVKdPZdN"
      },
      "execution_count": null,
      "outputs": []
    },
    {
      "cell_type": "markdown",
      "source": [
        "# 3. Fixing the Table "
      ],
      "metadata": {
        "id": "VUBDVVfowSwX"
      }
    },
    {
      "cell_type": "markdown",
      "source": [
        "**(this excercise is written by Tirth Patel)**\n",
        "\n",
        "So you work in a restaurant and this is a Table of orders from a table you serve. You were in a hurry so that the table head is messed up, can you help to fix the table head so that it looks neat?\n",
        "\n"
      ],
      "metadata": {
        "id": "96iPoG1gYG8G"
      }
    },
    {
      "cell_type": "code",
      "source": [
        "orders = Table().with_columns('Names', make_array('Joe', 'Sara', 'Sam', 'Jen'), \n",
        "                              'oRdeer', make_array('Burger', 'Fries', 'Salad', 'Tacos'), \n",
        "                              'QuaEntity', make_array(2, 5, 3, 3), \n",
        "                              'Drinks', make_array('Y', 'N', 'Y', 'Y'))\n",
        "orders"
      ],
      "metadata": {
        "colab": {
          "base_uri": "https://localhost:8080/",
          "height": 175
        },
        "id": "u-nVxEktgAvk",
        "outputId": "81ab7ae7-e0e6-4bad-f614-765e58f24138"
      },
      "execution_count": null,
      "outputs": [
        {
          "output_type": "execute_result",
          "data": {
            "text/html": [
              "<table border=\"1\" class=\"dataframe\">\n",
              "    <thead>\n",
              "        <tr>\n",
              "            <th>Names</th> <th>oRdeer</th> <th>QuaEntity</th> <th>Drinks</th>\n",
              "        </tr>\n",
              "    </thead>\n",
              "    <tbody>\n",
              "        <tr>\n",
              "            <td>Joe  </td> <td>Burger</td> <td>2        </td> <td>Y     </td>\n",
              "        </tr>\n",
              "        <tr>\n",
              "            <td>Sara </td> <td>Fries </td> <td>5        </td> <td>N     </td>\n",
              "        </tr>\n",
              "        <tr>\n",
              "            <td>Sam  </td> <td>Salad </td> <td>3        </td> <td>Y     </td>\n",
              "        </tr>\n",
              "        <tr>\n",
              "            <td>Jen  </td> <td>Tacos </td> <td>3        </td> <td>Y     </td>\n",
              "        </tr>\n",
              "    </tbody>\n",
              "</table>"
            ],
            "text/plain": [
              "Names | oRdeer | QuaEntity | Drinks\n",
              "Joe   | Burger | 2         | Y\n",
              "Sara  | Fries  | 5         | N\n",
              "Sam   | Salad  | 3         | Y\n",
              "Jen   | Tacos  | 3         | Y"
            ]
          },
          "metadata": {},
          "execution_count": 81
        }
      ]
    },
    {
      "cell_type": "code",
      "source": [
        "#1. please relabel the first column to be \"Guest\" using the name of the column.\n",
        "table1 = orders.relabeled('Names','Guest')\n",
        "table1"
      ],
      "metadata": {
        "id": "KfCY27X7gbUr"
      },
      "execution_count": null,
      "outputs": []
    },
    {
      "cell_type": "code",
      "source": [
        "#2. please relabel the second column to be Order using the index of the column.\n",
        "table2 = table1.relabeled(1,'Order')\n",
        "table2"
      ],
      "metadata": {
        "id": "svRkisTWhAvy"
      },
      "execution_count": null,
      "outputs": []
    },
    {
      "cell_type": "code",
      "source": [
        "# please relabel the third column to be Quantity using either the column name or index.\n",
        "table3 = table2.relabeled(2, 'Quantity')\n",
        "table3"
      ],
      "metadata": {
        "id": "Y0QE1yWVjKWV"
      },
      "execution_count": null,
      "outputs": []
    },
    {
      "cell_type": "code",
      "source": [
        "# count how many orders you have?\n",
        "table3.num_rows"
      ],
      "metadata": {
        "id": "3jQfywRdkrES"
      },
      "execution_count": null,
      "outputs": []
    },
    {
      "cell_type": "code",
      "source": [
        "# from the orders table, write code to output the list of guests who has ordered drink?\n",
        "table3.where('Drinks', 'Y').select('Guest')"
      ],
      "metadata": {
        "id": "eEa9wqKlkJaz"
      },
      "execution_count": null,
      "outputs": []
    },
    {
      "cell_type": "code",
      "source": [
        "# from the orders table, write code to output the number of guests who has ordered drink?\n",
        "table3.where('Drinks', 'Y').select('Guest').num_rows"
      ],
      "metadata": {
        "id": "yggqJJNEkhQ7"
      },
      "execution_count": null,
      "outputs": []
    },
    {
      "cell_type": "code",
      "source": [
        "#what are other curious questions you have about the table?"
      ],
      "metadata": {
        "id": "Wvg-KzWek9xz"
      },
      "execution_count": null,
      "outputs": []
    },
    {
      "cell_type": "code",
      "source": [
        "#can you add a column to the table called \"dessert\" which holds the ordered dessert for each customer?"
      ],
      "metadata": {
        "id": "IP3GYA0JiciF"
      },
      "execution_count": null,
      "outputs": []
    },
    {
      "cell_type": "markdown",
      "source": [
        "# 4. Create your own table\n",
        "Now you are brave enough to create your own tables and use the newly learned skills to explore the table, here are some ideas proposed by our students.\n",
        "\n",
        "\n",
        "\n",
        "\n"
      ],
      "metadata": {
        "id": "l9vnJBa8ldyN"
      }
    },
    {
      "cell_type": "markdown",
      "source": [
        "## Sports - by Alek Wroblewski\n",
        "Create a table with sports, and rate them from 1-5. 5 being best, 1 being worst. \n",
        "\n",
        "Have at least 5 sports, the table should have 2 columns and 5 rows. \n",
        "\n",
        "Then print out the following two queries: \n",
        "1. Sort the table in descending order, best to worst sports. \n",
        "2. output the best sport"
      ],
      "metadata": {
        "id": "_g3HR3A6l-5R"
      }
    },
    {
      "cell_type": "code",
      "source": [
        "sports = ...\n",
        "sports "
      ],
      "metadata": {
        "colab": {
          "base_uri": "https://localhost:8080/"
        },
        "id": "jjLD-SqBlmXY",
        "outputId": "dba58a4a-72f9-4f14-a82c-1d779e7e155b"
      },
      "execution_count": null,
      "outputs": [
        {
          "output_type": "execute_result",
          "data": {
            "text/plain": [
              "Ellipsis"
            ]
          },
          "metadata": {},
          "execution_count": 94
        }
      ]
    },
    {
      "cell_type": "markdown",
      "source": [
        "## Cars - by Cheikh Ndiaye\n",
        "Create a table with your five favorite cars and their speeds in miles per hour (mph). Make sure to name 1st column as \"Name of Car\", and 2nd column as \"Speed\" \n",
        "\n",
        "1. Calculate the average of all the speeds (hint use np.avarege)\n",
        "2. sorts the table by speeds in descending order\n"
      ],
      "metadata": {
        "id": "8A_97wTFnTgJ"
      }
    },
    {
      "cell_type": "code",
      "source": [
        "cars = ...\n",
        "cars"
      ],
      "metadata": {
        "id": "wO2CrQZil8Mu",
        "colab": {
          "base_uri": "https://localhost:8080/"
        },
        "outputId": "34f8a852-7407-45e8-d111-42c1f99d2a03"
      },
      "execution_count": null,
      "outputs": [
        {
          "output_type": "execute_result",
          "data": {
            "text/plain": [
              "Ellipsis"
            ]
          },
          "metadata": {},
          "execution_count": 95
        }
      ]
    },
    {
      "cell_type": "markdown",
      "source": [
        "## Foods - by David Seo\n",
        "\n",
        "Create a table with your favorite foods and the estimation of how much they cost. The table should have at least 7 rows. Then print out the following two queries:\n",
        "\n",
        "1. Print out the table but with the prices in descending order\n",
        "2. Print out the total price of all items\n"
      ],
      "metadata": {
        "id": "nypwuL_gnvRc"
      }
    },
    {
      "cell_type": "code",
      "source": [
        "foods = ...\n",
        "foods"
      ],
      "metadata": {
        "colab": {
          "base_uri": "https://localhost:8080/"
        },
        "id": "eNzaU9BFoBD_",
        "outputId": "5e7764d3-14ba-4ddb-df40-02e9253a7b6c"
      },
      "execution_count": null,
      "outputs": [
        {
          "output_type": "execute_result",
          "data": {
            "text/plain": [
              "Ellipsis"
            ]
          },
          "metadata": {},
          "execution_count": 96
        }
      ]
    },
    {
      "cell_type": "markdown",
      "source": [
        "## Songs - by Huimin Li\n",
        "Create a table contains your 5 most favorite songs with the name of the songs, the artists’ name, the artists’ age, the released date, the length of the songs.\n",
        "\n",
        "1. Sort the songs by the released date.\n",
        "\n",
        "2. Show the first 5 rows of this table.\n",
        "\n",
        "3. Calculate the mean of the artists’ age.\n"
      ],
      "metadata": {
        "id": "le6JyfGyoNLi"
      }
    },
    {
      "cell_type": "code",
      "source": [
        "songs = ...\n",
        "songs"
      ],
      "metadata": {
        "id": "P3a7qqvPoMY9"
      },
      "execution_count": null,
      "outputs": []
    },
    {
      "cell_type": "markdown",
      "source": [
        "## Monthly Spendings - by Ayesha Khalid\n",
        "\n",
        "\n",
        "Create a table with your monthly spendings. \n",
        "*  The first column is the item such as food, gas, memberships, groceries, rent; \n",
        "*  The second column is the cost of each \n",
        "*  The third column is a flag whether they are important, if they are important, mark as \"Y\", otherwise \"N\"\n",
        "\n",
        "\n",
        "1. return an item that cost the most (hint, you will need to use sort function)\n",
        "2. return a list of items that are important for you\n",
        "3. calculate the total spendings for all important items \n",
        "4. create variable budget that store your monthly budget\n",
        "5. calculate the leftover budget after all necessities "
      ],
      "metadata": {
        "id": "q-PDZ69doZlT"
      }
    },
    {
      "cell_type": "code",
      "source": [
        "spendings = ..."
      ],
      "metadata": {
        "id": "jzYs1qVbrkQ_"
      },
      "execution_count": null,
      "outputs": []
    },
    {
      "cell_type": "markdown",
      "source": [
        "## Video Games - by Moses Lian\n",
        "\n",
        "Make a table with 5 rows of the most popular video games from 2009-2020. \n",
        "1. the first column is the name of the video game;\n",
        "2. the second column is the Popularity, which is measured by the amount sold within a period\n",
        "3. the third column is Revenue, which is the sales revenue of the video games from launch release till the end of the 2nd month.\n",
        "\n",
        "\n",
        "\n",
        "\n",
        "\n"
      ],
      "metadata": {
        "id": "qZfuQ0rJrBi5"
      }
    },
    {
      "cell_type": "code",
      "source": [
        "games = ..."
      ],
      "metadata": {
        "id": "QUY0s6uyss38"
      },
      "execution_count": null,
      "outputs": []
    },
    {
      "cell_type": "markdown",
      "source": [
        "## Family Members - by Shashidhar Manoharan\n",
        "\n",
        "Create a Table that contains each of your immediate family members (mother, father, brother, sisters, and yourself). \n",
        "1. The table should have a column for the family members name, age, and gender\n",
        "2. Next, order the data in ascending order so that the youngest family member is at the top of the table, and the oldest family member is at the bottom of the table. \n",
        "3. Finally, print the sum of the family members’ ages using python commands.\n"
      ],
      "metadata": {
        "id": "Bt8uXPQzs2un"
      }
    },
    {
      "cell_type": "code",
      "source": [
        "family = ..."
      ],
      "metadata": {
        "id": "4m3SosouvXg7"
      },
      "execution_count": null,
      "outputs": []
    },
    {
      "cell_type": "markdown",
      "source": [
        "## Food places - by Hannah Boyad\n",
        "\n",
        "Create a table of your own, based on the most recent fast-food places you've visited, how many times you've visited them this year, and the most common item you've ordered from their menu. \n",
        "\n",
        "*If you're not a fan of it, you can just make a table using the recent food you've eaten, how often you ate it this year, and where you ate it.*"
      ],
      "metadata": {
        "id": "OzhT0526wAVP"
      }
    },
    {
      "cell_type": "code",
      "source": [
        "food_places = ..."
      ],
      "metadata": {
        "id": "7Q8s58gTwU1_"
      },
      "execution_count": null,
      "outputs": []
    }
  ]
}